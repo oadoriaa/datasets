{
 "cells": [
  {
   "cell_type": "code",
   "execution_count": null,
   "metadata": {},
   "outputs": [],
   "source": [
    "#PyTorch \n",
    "\n",
    "import torch\n",
    "import torch.nn as nn\n",
    "import torch.optim as optim\n",
    "# from torch.autograd import Variable\n",
    "import torch.nn.functional as F\n",
    "from torch.utils import data\n",
    "# from torch.optim import lr_scheduler\n",
    "\n",
    "#sklearn\n",
    "from sklearn.model_selection import train_test_split\n",
    "from sklearn.metrics import mean_squared_error\n",
    "from sklearn.preprocessing import StandardScaler, OrdinalEncoder, FunctionTransformer\n",
    "# from sklearn.pipeline import Pipeline\n",
    "from sklearn.compose import ColumnTransformer, make_column_selector as selector\n",
    "\n",
    "#pandas, numpy\n",
    "import pandas as pd\n",
    "import numpy as np\n",
    "\n",
    "## helpers\n",
    "from pandas.api.types import is_numeric_dtype\n",
    "from operator import floordiv\n",
    "\n",
    "#graphs\n",
    "import matplotlib.pyplot as plt\n",
    "%matplotlib inline"
   ]
  },
  {
   "cell_type": "code",
   "execution_count": 2,
   "metadata": {},
   "outputs": [],
   "source": [
    "def haversine_distance(df, lat1, long1, lat2, long2):\n",
    "    \"\"\"\n",
    "    Calculates the haversine distance between 2 sets of GPS coordinates in df\n",
    "    \"\"\"\n",
    "    r = 6371  # average radius of Earth in kilometers\n",
    "    phi1 = np.radians(df[lat1])\n",
    "    phi2 = np.radians(df[lat2])\n",
    "    delta_phi = np.radians(df[lat2]-df[lat1])\n",
    "    delta_lambda = np.radians(df[long2]-df[long1])\n",
    "    a = np.sin(delta_phi/2)**2 + np.cos(phi1) * np.cos(phi2) * np.sin(delta_lambda/2)**2\n",
    "    c = 2 * np.arctan2(np.sqrt(a), np.sqrt(1-a))\n",
    "    d = (r * c) # in kilometers\n",
    "    return d\n",
    "\n",
    "def get_dates_variable(df):\n",
    "    df['pickup_date'] = pd.to_datetime(df['pickup_datetime'].str[:19]) - pd.Timedelta(hours=4)\n",
    "    df['Hour'] = df['pickup_date'].dt.hour\n",
    "    df['AM'] = np.where(df['Hour']<12,'AM','PM')\n",
    "    df['Weekday'] = df['pickup_date'].dt.strftime(\"%a\")\n",
    "    return df.drop(['pickup_date', 'pickup_datetime'], axis=1)\n",
    "\n",
    "def embedded_init_weight(x):\n",
    "    x = x.weight.data\n",
    "    sc = 2.0 / (x.size(1)+1.0)\n",
    "    x.uniform_(-sc,sc)"
   ]
  },
  {
   "cell_type": "code",
   "execution_count": 3,
   "metadata": {},
   "outputs": [
    {
     "data": {
      "text/html": [
       "<div>\n",
       "<style scoped>\n",
       "    .dataframe tbody tr th:only-of-type {\n",
       "        vertical-align: middle;\n",
       "    }\n",
       "\n",
       "    .dataframe tbody tr th {\n",
       "        vertical-align: top;\n",
       "    }\n",
       "\n",
       "    .dataframe thead th {\n",
       "        text-align: right;\n",
       "    }\n",
       "</style>\n",
       "<table border=\"1\" class=\"dataframe\">\n",
       "  <thead>\n",
       "    <tr style=\"text-align: right;\">\n",
       "      <th></th>\n",
       "      <th>key</th>\n",
       "      <th>fare_amount</th>\n",
       "      <th>pickup_datetime</th>\n",
       "      <th>pickup_longitude</th>\n",
       "      <th>pickup_latitude</th>\n",
       "      <th>dropoff_longitude</th>\n",
       "      <th>dropoff_latitude</th>\n",
       "      <th>passenger_count</th>\n",
       "    </tr>\n",
       "  </thead>\n",
       "  <tbody>\n",
       "    <tr>\n",
       "      <th>0</th>\n",
       "      <td>2009-06-15 17:26:21.0000001</td>\n",
       "      <td>4.5</td>\n",
       "      <td>2009-06-15 17:26:21 UTC</td>\n",
       "      <td>-73.844311</td>\n",
       "      <td>40.721319</td>\n",
       "      <td>-73.841610</td>\n",
       "      <td>40.712278</td>\n",
       "      <td>1</td>\n",
       "    </tr>\n",
       "    <tr>\n",
       "      <th>1</th>\n",
       "      <td>2010-01-05 16:52:16.0000002</td>\n",
       "      <td>16.9</td>\n",
       "      <td>2010-01-05 16:52:16 UTC</td>\n",
       "      <td>-74.016048</td>\n",
       "      <td>40.711303</td>\n",
       "      <td>-73.979268</td>\n",
       "      <td>40.782004</td>\n",
       "      <td>1</td>\n",
       "    </tr>\n",
       "    <tr>\n",
       "      <th>2</th>\n",
       "      <td>2011-08-18 00:35:00.00000049</td>\n",
       "      <td>5.7</td>\n",
       "      <td>2011-08-18 00:35:00 UTC</td>\n",
       "      <td>-73.982738</td>\n",
       "      <td>40.761270</td>\n",
       "      <td>-73.991242</td>\n",
       "      <td>40.750562</td>\n",
       "      <td>2</td>\n",
       "    </tr>\n",
       "    <tr>\n",
       "      <th>3</th>\n",
       "      <td>2012-04-21 04:30:42.0000001</td>\n",
       "      <td>7.7</td>\n",
       "      <td>2012-04-21 04:30:42 UTC</td>\n",
       "      <td>-73.987130</td>\n",
       "      <td>40.733143</td>\n",
       "      <td>-73.991567</td>\n",
       "      <td>40.758092</td>\n",
       "      <td>1</td>\n",
       "    </tr>\n",
       "    <tr>\n",
       "      <th>4</th>\n",
       "      <td>2010-03-09 07:51:00.000000135</td>\n",
       "      <td>5.3</td>\n",
       "      <td>2010-03-09 07:51:00 UTC</td>\n",
       "      <td>-73.968095</td>\n",
       "      <td>40.768008</td>\n",
       "      <td>-73.956655</td>\n",
       "      <td>40.783762</td>\n",
       "      <td>1</td>\n",
       "    </tr>\n",
       "  </tbody>\n",
       "</table>\n",
       "</div>"
      ],
      "text/plain": [
       "                             key  fare_amount          pickup_datetime  \\\n",
       "0    2009-06-15 17:26:21.0000001          4.5  2009-06-15 17:26:21 UTC   \n",
       "1    2010-01-05 16:52:16.0000002         16.9  2010-01-05 16:52:16 UTC   \n",
       "2   2011-08-18 00:35:00.00000049          5.7  2011-08-18 00:35:00 UTC   \n",
       "3    2012-04-21 04:30:42.0000001          7.7  2012-04-21 04:30:42 UTC   \n",
       "4  2010-03-09 07:51:00.000000135          5.3  2010-03-09 07:51:00 UTC   \n",
       "\n",
       "   pickup_longitude  pickup_latitude  dropoff_longitude  dropoff_latitude  \\\n",
       "0        -73.844311        40.721319         -73.841610         40.712278   \n",
       "1        -74.016048        40.711303         -73.979268         40.782004   \n",
       "2        -73.982738        40.761270         -73.991242         40.750562   \n",
       "3        -73.987130        40.733143         -73.991567         40.758092   \n",
       "4        -73.968095        40.768008         -73.956655         40.783762   \n",
       "\n",
       "   passenger_count  \n",
       "0                1  \n",
       "1                1  \n",
       "2                2  \n",
       "3                1  \n",
       "4                1  "
      ]
     },
     "execution_count": 3,
     "metadata": {},
     "output_type": "execute_result"
    }
   ],
   "source": [
    "### data\n",
    "\n",
    "df_train = pd.read_csv(\"taxidataset/train_10k.csv\")\n",
    "df_train.head()"
   ]
  },
  {
   "cell_type": "code",
   "execution_count": 4,
   "metadata": {},
   "outputs": [
    {
     "data": {
      "text/plain": [
       "0.01"
      ]
     },
     "execution_count": 4,
     "metadata": {},
     "output_type": "execute_result"
    }
   ],
   "source": [
    "df_train = df_train.loc[df_train.fare_amount > 0]\n",
    "# df_test = df_test.loc[df_test.fare_amount > 0]\n",
    "df_train.fare_amount.min()"
   ]
  },
  {
   "cell_type": "markdown",
   "metadata": {},
   "source": [
    "## Preprocessing"
   ]
  },
  {
   "cell_type": "code",
   "execution_count": 6,
   "metadata": {},
   "outputs": [],
   "source": [
    "df_train_pp = get_dates_variable(df_train)\n",
    "\n",
    "lst_categorical = [ 'Hour', 'AM', 'Weekday']\n",
    "lst_float = [ 'pickup_longitude' , 'pickup_latitude'\n",
    "            , 'dropoff_longitude', 'dropoff_latitude'\n",
    "            ]\n",
    "lst_integer =[ 'passenger_count']\n",
    "y_name = 'fare_amount'\n",
    "\n",
    "lst_numeric = lst_float + lst_integer\n",
    "\n",
    "df_train_pp[lst_categorical] = df_train_pp[lst_categorical].astype(\"category\")\n",
    "\n",
    "## Get number of input/output for embbeded layers\n",
    "lst_embbeded_size = [( df_train_pp[col].cat.categories.size\n",
    "                    , floordiv(df_train_pp[col].cat.categories.size + 1, 2)\n",
    "                    ) for col in lst_categorical\n",
    "                   ]\n",
    "\n",
    "identity = FunctionTransformer(lambda x: x)\n",
    "\n",
    "preprocessor = ColumnTransformer(\n",
    "                transformers=[\n",
    "                      ('cat', OrdinalEncoder(), selector(dtype_include=\"category\"))\n",
    "                    , ('num', StandardScaler(), selector(dtype_include=\"float\"))\n",
    "                    , ('int', identity, selector(dtype_include=\"int\"))\n",
    "                ]\n",
    "                )\n",
    "\n",
    "preprocessor.fit(df_train_pp)\n",
    "df_train_np = preprocessor.transform(df_train_pp)\n",
    "\n",
    "df_train_pp = pd.DataFrame(df_train_np, columns=lst_categorical + lst_float + lst_integer + [y_name])"
   ]
  },
  {
   "cell_type": "markdown",
   "metadata": {},
   "source": [
    "## Data model"
   ]
  },
  {
   "cell_type": "code",
   "execution_count": 8,
   "metadata": {},
   "outputs": [],
   "source": [
    "class TabularData(data.Dataset):\n",
    "    def __init__(self, X, y, lst_categorical, lst_numeric, device):\n",
    "        # super().__init__()\n",
    "        self.x_categorical = torch.from_numpy(X[lst_categorical].astype(\"int64\").to_numpy()).to(device)\n",
    "        self.x_numeric = torch.from_numpy(X[lst_numeric].to_numpy()).to(device)\n",
    "        self.y = torch.from_numpy(y.to_numpy()).to(device)\n",
    "    \n",
    "    def __len__(self):\n",
    "        return self.y.shape[0]\n",
    "    \n",
    "    def __getitem__(self, index):\n",
    "        return [self.x_categorical[index], self.x_numeric[index], self.y[index]]"
   ]
  },
  {
   "cell_type": "markdown",
   "metadata": {},
   "source": [
    "## Neural Network"
   ]
  },
  {
   "cell_type": "code",
   "execution_count": 10,
   "metadata": {},
   "outputs": [],
   "source": [
    "class Autoencoder(nn.Module):\n",
    "    \"Tabular AE\"\n",
    "    def __init__(self, Layers, n_numeric, lst_embbeded_size):\n",
    "        super(Autoencoder, self).__init__()\n",
    "        self.out_dim = 1\n",
    "        self.n_num = n_numeric\n",
    "        \n",
    "        self.layers = nn.ModuleList()\n",
    "        self.embbeded = nn.ModuleList([nn.Embedding( num_embeddings=input_size\n",
    "                                                   , embedding_dim=output_size\n",
    "                                                   ) \n",
    "                                        for input_size, output_size in lst_embbeded_size\n",
    "                                      ])\n",
    "        \n",
    "        ## weight initialization for embedded layers\n",
    "        self.n_emb = 0\n",
    "        for emb in self.embbeded:\n",
    "            embedded_init_weight(emb)\n",
    "            self.n_emb += emb.embedding_dim\n",
    "\n",
    "        ## add additional layer for concatanated layer\n",
    "        total_layers =  [self.n_emb + self.n_num] + Layers\n",
    "\n",
    "        ## batchnorm for first numeric layer\n",
    "        self.bn_numeric = nn.BatchNorm1d(self.n_num)\n",
    "\n",
    "        ## dropout layer for first embedded layer\n",
    "        self.embbeded_dropout = nn.Dropout(0.1)\n",
    "\n",
    "        ## list of internal layers\n",
    "        self.dropout = nn.ModuleList()\n",
    "        self.linear_layers = nn.ModuleList()\n",
    "        self.bn_layers = nn.ModuleList()\n",
    "\n",
    "        for input_size, output_size in zip(total_layers, total_layers[1:]):\n",
    "            self.dropout.append(nn.Dropout(0.01))\n",
    "            self.linear_layers.append(nn.Linear(input_size, output_size))\n",
    "            self.bn_layers.append(nn.BatchNorm1d(output_size))\n",
    "                                  \n",
    "        ## final layer\n",
    "        self.final_ll = nn.Linear(total_layers[-1], self.out_dim)\n",
    "        \n",
    "        ## weight initialization for linear layers\n",
    "        for ll in self.linear_layers:\n",
    "            nn.init.kaiming_normal_(ll.weight.data)\n",
    "        nn.init.kaiming_normal_(self.final_ll.weight.data)\n",
    "\n",
    "    def forward(self, x_categorical, x_numeric):\n",
    "        ## create embeddeds for each categorical\n",
    "        x_cat = [ embedded_layer(x_categorical[:,i])\n",
    "                    for i, embedded_layer in enumerate(self.embbeded)\n",
    "                ]\n",
    "        ## concat embedded layers and normalize with dropout\n",
    "        x_cat  = torch.concat(x_cat, 1)\n",
    "        x_cat = self.embbeded_dropout(x_cat)\n",
    "\n",
    "        ## apply first batchnormalization to numeric layer\n",
    "        x_num = self.bn_numeric(x_numeric)\n",
    "\n",
    "        ## concat both embedded anb numeric\n",
    "        x = torch.concat([x_cat, x_num], 1)\n",
    "        \n",
    "        for ll, bn, do in zip( self.linear_layers\n",
    "                             , self.bn_layers\n",
    "                             , self.dropout\n",
    "                             ):\n",
    "            x = ll(x)\n",
    "            x = F.relu(x)\n",
    "            x = bn(x)\n",
    "            x = do(x)\n",
    "\n",
    "        x = self.final_ll(x)\n",
    "        return x.squeeze()"
   ]
  },
  {
   "cell_type": "markdown",
   "metadata": {},
   "source": [
    "## Data preparation before model"
   ]
  },
  {
   "cell_type": "code",
   "execution_count": 12,
   "metadata": {},
   "outputs": [],
   "source": [
    "# device = torch.device(\"cpu\")\n",
    "device = torch.device(\"cuda:0\" if torch.cuda.is_available() else \"cpu\")\n",
    "\n",
    "X_train, X_validation, y_train, y_validation = train_test_split( df_train_pp.drop([y_name],axis=1)\n",
    "                                                               , df_train_pp[y_name]\n",
    "                                                               , test_size=0.20\n",
    "                                                               , random_state=42\n",
    "                                                               , shuffle=True\n",
    "                                                               ) \n",
    "\n",
    "data_tabular_train      = TabularData(X_train, y_train, lst_categorical, lst_numeric, device)\n",
    "data_tabular_validation = TabularData(X_validation, y_validation, lst_categorical, lst_numeric, device)\n",
    "\n",
    "dataloader_tabular_train      = data.DataLoader(data_tabular_train, batch_size=128, shuffle=True)\n",
    "dataloader_tabular_validation = data.DataLoader(data_tabular_validation, batch_size=128, shuffle=True)"
   ]
  },
  {
   "cell_type": "code",
   "execution_count": 13,
   "metadata": {},
   "outputs": [
    {
     "data": {
      "text/html": [
       "<div>\n",
       "<style scoped>\n",
       "    .dataframe tbody tr th:only-of-type {\n",
       "        vertical-align: middle;\n",
       "    }\n",
       "\n",
       "    .dataframe tbody tr th {\n",
       "        vertical-align: top;\n",
       "    }\n",
       "\n",
       "    .dataframe thead th {\n",
       "        text-align: right;\n",
       "    }\n",
       "</style>\n",
       "<table border=\"1\" class=\"dataframe\">\n",
       "  <thead>\n",
       "    <tr style=\"text-align: right;\">\n",
       "      <th></th>\n",
       "      <th>Hour</th>\n",
       "      <th>AM</th>\n",
       "      <th>Weekday</th>\n",
       "      <th>pickup_longitude</th>\n",
       "      <th>pickup_latitude</th>\n",
       "      <th>dropoff_longitude</th>\n",
       "      <th>dropoff_latitude</th>\n",
       "      <th>passenger_count</th>\n",
       "    </tr>\n",
       "  </thead>\n",
       "  <tbody>\n",
       "    <tr>\n",
       "      <th>6715</th>\n",
       "      <td>16.0</td>\n",
       "      <td>1.0</td>\n",
       "      <td>0.0</td>\n",
       "      <td>-0.077044</td>\n",
       "      <td>-0.140050</td>\n",
       "      <td>0.117193</td>\n",
       "      <td>-0.140950</td>\n",
       "      <td>0.143569</td>\n",
       "    </tr>\n",
       "    <tr>\n",
       "      <th>1561</th>\n",
       "      <td>20.0</td>\n",
       "      <td>1.0</td>\n",
       "      <td>4.0</td>\n",
       "      <td>-0.077044</td>\n",
       "      <td>6.829503</td>\n",
       "      <td>-5.453841</td>\n",
       "      <td>6.849570</td>\n",
       "      <td>-6.291744</td>\n",
       "    </tr>\n",
       "    <tr>\n",
       "      <th>1670</th>\n",
       "      <td>19.0</td>\n",
       "      <td>1.0</td>\n",
       "      <td>5.0</td>\n",
       "      <td>-0.181393</td>\n",
       "      <td>-0.143960</td>\n",
       "      <td>0.110299</td>\n",
       "      <td>-0.143753</td>\n",
       "      <td>0.135437</td>\n",
       "    </tr>\n",
       "    <tr>\n",
       "      <th>4345</th>\n",
       "      <td>4.0</td>\n",
       "      <td>0.0</td>\n",
       "      <td>5.0</td>\n",
       "      <td>0.507313</td>\n",
       "      <td>-0.123497</td>\n",
       "      <td>0.099069</td>\n",
       "      <td>-0.130567</td>\n",
       "      <td>0.123169</td>\n",
       "    </tr>\n",
       "    <tr>\n",
       "      <th>8098</th>\n",
       "      <td>20.0</td>\n",
       "      <td>1.0</td>\n",
       "      <td>2.0</td>\n",
       "      <td>-0.577921</td>\n",
       "      <td>-0.144999</td>\n",
       "      <td>0.109605</td>\n",
       "      <td>-0.144074</td>\n",
       "      <td>0.130486</td>\n",
       "    </tr>\n",
       "  </tbody>\n",
       "</table>\n",
       "</div>"
      ],
      "text/plain": [
       "      Hour   AM  Weekday  pickup_longitude  pickup_latitude  \\\n",
       "6715  16.0  1.0      0.0         -0.077044        -0.140050   \n",
       "1561  20.0  1.0      4.0         -0.077044         6.829503   \n",
       "1670  19.0  1.0      5.0         -0.181393        -0.143960   \n",
       "4345   4.0  0.0      5.0          0.507313        -0.123497   \n",
       "8098  20.0  1.0      2.0         -0.577921        -0.144999   \n",
       "\n",
       "      dropoff_longitude  dropoff_latitude  passenger_count  \n",
       "6715           0.117193         -0.140950         0.143569  \n",
       "1561          -5.453841          6.849570        -6.291744  \n",
       "1670           0.110299         -0.143753         0.135437  \n",
       "4345           0.099069         -0.130567         0.123169  \n",
       "8098           0.109605         -0.144074         0.130486  "
      ]
     },
     "execution_count": 13,
     "metadata": {},
     "output_type": "execute_result"
    }
   ],
   "source": [
    "X_train.head()"
   ]
  },
  {
   "cell_type": "code",
   "execution_count": 14,
   "metadata": {},
   "outputs": [
    {
     "data": {
      "text/plain": [
       "[tensor([16,  1,  0], device='cuda:0'),\n",
       " tensor([-0.0770, -0.1401,  0.1172, -0.1409,  0.1436], device='cuda:0',\n",
       "        dtype=torch.float64),\n",
       " tensor(1., device='cuda:0', dtype=torch.float64)]"
      ]
     },
     "execution_count": 14,
     "metadata": {},
     "output_type": "execute_result"
    }
   ],
   "source": [
    "data_tabular_train[0]"
   ]
  },
  {
   "cell_type": "code",
   "execution_count": 15,
   "metadata": {},
   "outputs": [
    {
     "data": {
      "text/plain": [
       "[(24, 12), (2, 1), (7, 4)]"
      ]
     },
     "execution_count": 15,
     "metadata": {},
     "output_type": "execute_result"
    }
   ],
   "source": [
    "lst_embbeded_size"
   ]
  },
  {
   "cell_type": "markdown",
   "metadata": {},
   "source": [
    "### model training parameters"
   ]
  },
  {
   "cell_type": "code",
   "execution_count": 17,
   "metadata": {},
   "outputs": [],
   "source": [
    "Layers = [16, 8, 4]\n",
    "model = Autoencoder( Layers=Layers\n",
    "                   , n_numeric=len(lst_numeric)\n",
    "                   , lst_embbeded_size=lst_embbeded_size\n",
    "                   )\n",
    "\n",
    "epochs = 50\n",
    "learning_rate = 1e-2\n",
    "optimizer = optim.Adam(model.parameters(), learning_rate)\n",
    "# lr_cosine = lr_scheduler.CosineAnnealingLR(optimizer, 1000)\n",
    "criterion = torch.nn.MSELoss()"
   ]
  },
  {
   "cell_type": "code",
   "execution_count": 18,
   "metadata": {},
   "outputs": [],
   "source": [
    "LOSS = []\n",
    "model.to(device, dtype=torch.float64)\n",
    "model.train()\n",
    "for epoch in range(epochs):\n",
    "    for x_cat, x_num, y in dataloader_tabular_train:\n",
    "        optimizer.zero_grad()\n",
    "        yhat = model(x_cat, x_num)\n",
    "        loss = criterion(yhat, y)\n",
    "        optimizer.zero_grad()\n",
    "        loss.backward()\n",
    "        optimizer.step()\n",
    "        LOSS.append(loss.item())"
   ]
  },
  {
   "cell_type": "code",
   "execution_count": 19,
   "metadata": {},
   "outputs": [
    {
     "data": {
      "image/png": "[encoded data removed]",
      "text/plain": [
       "<Figure size 432x288 with 1 Axes>"
      ]
     },
     "metadata": {
      "needs_background": "light"
     },
     "output_type": "display_data"
    }
   ],
   "source": [
    "plt.plot(LOSS)\n",
    "plt.show()"
   ]
  }
 ],
 "metadata": {
  "kernelspec": {
   "display_name": "Python 3 (ipykernel)",
   "language": "python",
   "name": "python3"
  },
  "language_info": {
   "codemirror_mode": {
    "name": "ipython",
    "version": 3
   },
   "file_extension": ".py",
   "mimetype": "text/x-python",
   "name": "python",
   "nbconvert_exporter": "python",
   "pygments_lexer": "ipython3",
   "version": "3.10.12"
  }
 },
 "nbformat": 4,
 "nbformat_minor": 2
}
